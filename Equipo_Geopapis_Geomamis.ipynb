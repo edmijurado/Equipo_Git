{
  "cells": [
    {
      "cell_type": "code",
      "execution_count": null,
      "metadata": {
        "id": "fRexlIKWNJDc"
      },
      "outputs": [],
      "source": []
    },
    {
      "cell_type": "markdown",
      "metadata": {
        "id": "8qZaqbwtNxI3"
      },
      "source": []
    },
    {
      "cell_type": "markdown",
      "metadata": {
        "id": "1o2t8OtSN_4D"
      },
      "source": [
        "\n",
        "# Planeando un viaje de amigos\n",
        "Un grupo de seis amigos desean irse de viaje cada mes y para evitar hacer las cuentas cada vez que es necesario, han desarrollado un código que les ayude a determinar el mejor destino para cada ocasión, tomando como principal criterio el presupuesto del grupo.\n",
        "\n",
        "Consideraciones:\n",
        "- Los viajes siempre tienen un presupuesto global inicial que corresponde a un ahorro colectivo para gastos comunes, como las gasolina, las casetas, etc (pg).\n",
        "- Han acordado que lo más importante para este grupo es la convivencia y vivir experiencias juntos, por ello, el presupuesto de cada uno se suma para crear un presupuesto grupal y ayudar a que todos tengan la misma posibilidad de ir.\n",
        "- Dadas las características de agenda y laborales de este grupo de amigos, todos los viajes de este estilo duran siempre 3 días\n"
      ]
    },
    {
      "cell_type": "code",
      "execution_count": 1,
      "metadata": {
        "colab": {
          "base_uri": "https://localhost:8080/",
          "height": 88
        },
        "id": "bM0lCMFyyTe8",
        "outputId": "622e4b97-6d30-4f14-c50b-6e2409d47998"
      },
      "outputs": [
        {
          "name": "stdout",
          "output_type": "stream",
          "text": [
            "Presupuesto grupal: 8900\n",
            "Presupuesto por persona: 1483.3333333333333\n",
            "Presupuesto por dia: 2966.6666666666665\n"
          ]
        },
        {
          "data": {
            "text/plain": [
              "'Destino conveniente'"
            ]
          },
          "execution_count": 1,
          "metadata": {},
          "output_type": "execute_result"
        }
      ],
      "source": [
        "# FASE 1:                                              Conocer el presupuesto para el viaje\n",
        "\n",
        "# 1- PRESUSPUESTO GRUPAL INICIAL\n",
        "pg= 800 # presupuesto grupal inicial   --->   NOTA TÉCNICA: pg aquí es una variable global y una constante.\n",
        "\n",
        "# 2- FUNCIÓN PARA DETERMINAR EL PRESUPUESTO GRUPAL\n",
        "\n",
        "def presupuesto_grupal (a,b,c,d,e,f,pg):   # --> insertar por cada letra el presupuesto de cada uno de los amigos, corroborar que no se repita u omita a algún integrante.\n",
        "    pg=a+b+c+d+e+f+pg        # NOTA TÉCNICA: pg aquí es una variable local\n",
        "    return pg\n",
        "\n",
        "# 3- APLICACIÓN DE FORMULA PARA PARA EL CASO DE INTERÉS.\n",
        "# Consideraciones para este viaje:\n",
        "#    -  La amiga A cuenta con 800 pesos, la amiga B cuenta con 1500, la amiga C cuenta con 2000, el amigo D cuenta con 1500, el amigo E cuenta con 800 y la amiga F cuenta con 1500.\n",
        "\n",
        "pg= presupuesto_grupal(800,1500,2000,1500, 800, 1500, pg)\n",
        "print(\"Presupuesto grupal:\", pg) #Presupuesto grupal\n",
        "\n",
        "# 4- PRESUPUESTO POR DÍA Y POR PERSONA\n",
        "# A partir del presupuesto grupal calculado, ahora queremos saber cuál es el presupuesto por día y por persona\n",
        "pgd= pg/3  #presupuesto por día  (3 días)\n",
        "pgp = pg/6  #presupuesto por persona  (6 personas)\n",
        "\n",
        "print(\"Presupuesto por persona:\", pgp) #Presupuesto por persona\n",
        "print(\"Presupuesto por dia:\", pgd) #Presupuesto por dia\n",
        "\n",
        "# 5- DEFINIR EL DESTINO\n",
        "\n",
        "\n",
        "# FASE 2:                                                 Determinar el destino del viaje\n",
        "# En esta fase se diseño la funcion \"destino\" la cual nos permite identificar si el destino es conveniente o no, tomando en cuenta el presupuesto por persona (pgp),\n",
        "# el cual fue obtenido gracias a la función anterior\n",
        "\n",
        "# FUNCIÓN\n",
        "def destino (a):\n",
        "    return \"Destino conveniente\" if pgp >= a else \"Busquen otros destino\"\n",
        "\n",
        "# Presupuestos por persona en:\n",
        "Jalisco= 1500\n",
        "Acapulco = 1200\n",
        "Cuernavaca = 600\n",
        "Toluca = 400\n",
        "Tepoztlan = 380\n",
        "\n",
        "destino(Toluca)  # ---> Entre los parentesis de esta función se puede poner el presupuesto por persona para cualquier destino y se sabrá si es conveniente o no.\n",
        "\n"
      ]
    },
    {
      "cell_type": "markdown",
      "metadata": {},
      "source": [
        "Autores: \n",
        "Jurado Saldaña Edmi Jimena\n",
        "Muñoz Gómez Casandra\n",
        "Pérez Ruben Israel \n",
        "Ramírez Pérez Josue Shamed\n",
        "Valerio Apolinar Itzel\n",
        "\n",
        "Actividad Modulo 7 y 8"
      ]
    }
  ],
  "metadata": {
    "colab": {
      "provenance": []
    },
    "kernelspec": {
      "display_name": "Python 3",
      "name": "python3"
    },
    "language_info": {
      "name": "python",
      "version": "3.9.12"
    }
  },
  "nbformat": 4,
  "nbformat_minor": 0
}
